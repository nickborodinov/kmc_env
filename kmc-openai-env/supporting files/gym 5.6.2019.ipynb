{
 "cells": [
  {
   "cell_type": "code",
   "execution_count": 1,
   "metadata": {},
   "outputs": [],
   "source": [
    "%load_ext autoreload\n",
    "%autoreload 2"
   ]
  },
  {
   "cell_type": "code",
   "execution_count": 2,
   "metadata": {},
   "outputs": [
    {
     "name": "stderr",
     "output_type": "stream",
     "text": [
      "C:\\ProgramData\\Anaconda3\\lib\\site-packages\\h5py\\__init__.py:36: FutureWarning: Conversion of the second argument of issubdtype from `float` to `np.floating` is deprecated. In future, it will be treated as `np.float64 == np.dtype(float).type`.\n",
      "  from ._conv import register_converters as _register_converters\n",
      "Using TensorFlow backend.\n"
     ]
    }
   ],
   "source": [
    "import gym\n",
    "from gym import error, spaces, utils\n",
    "from gym.utils import seeding\n",
    "from kmcsim.buildtools import make_fcc, write_latt\n",
    "import kmc_env\n",
    "import kmcsim\n",
    "from kmcsim.sim import KMCModel\n",
    "from kmcsim.sim import EventTree\n",
    "from kmcsim.sim import RunSim\n",
    "import os\n",
    "import numpy as np\n",
    "import collections\n",
    "from kmc_env.envs.kmcsim_state_funcs import make_surface_proj,calc_roughness,get_state_reward,get_incremented_rates,gaussian\n",
    "from kmc_env.envs.kmc_env import *\n",
    "from matplotlib import pyplot as plt\n",
    "import random\n",
    "from collections import deque\n",
    "from keras.models import Sequential\n",
    "from keras.layers import Dense\n",
    "from keras.optimizers import Adam\n",
    "from keras.layers import Dense, Conv2D, MaxPool2D, UpSampling2D, Reshape, Flatten, Add, Input\n",
    "from keras.models import Model\n",
    "from keras.layers import Concatenate\n",
    "from IPython.display import clear_output\n",
    "import time\n",
    "import sys"
   ]
  },
  {
   "cell_type": "code",
   "execution_count": 3,
   "metadata": {},
   "outputs": [],
   "source": [
    "from tensorflow.compat.v1 import ConfigProto\n",
    "from tensorflow.compat.v1 import InteractiveSession\n",
    "from kmcsim.buildtools import make_fcc, write_latt\n",
    "config = ConfigProto()\n",
    "config.gpu_options.allow_growth = True\n",
    "session = InteractiveSession(config=config)"
   ]
  },
  {
   "cell_type": "code",
   "execution_count": 19,
   "metadata": {
    "scrolled": false
   },
   "outputs": [],
   "source": [
    "class DQNAgent:\n",
    "    def __init__(self, state_size, action_size,gamma=0.5,epsilon=0.8,epsilon_min=0,epsilon_decay=0.992):\n",
    "        self.state_size = state_size\n",
    "        self.action_size = action_size\n",
    "        self.memory = deque(maxlen=2000)\n",
    "        self.gamma = gamma    # discount rate\n",
    "        self.epsilon = epsilon  # exploration rate\n",
    "        self.epsilon_min = epsilon_min\n",
    "        self.epsilon_decay = epsilon_decay\n",
    "        self.model = self._build_model()\n",
    "\n",
    "    def _build_model(self):\n",
    "        model = Sequential()\n",
    "        model.add(Conv2D(32, activation='tanh', kernel_size = (3,3), strides = (1,1), batch_input_shape=(1,32,32,1)))\n",
    "        model.add(MaxPool2D((2,2)))\n",
    "        model.add(Conv2D(64, activation='tanh', kernel_size = (3,3), strides = (1,1), batch_input_shape=(1,32,32,1)))\n",
    "        model.add(MaxPool2D((2,2)))\n",
    "        model.add(Conv2D(32, activation='tanh', kernel_size = (3,3), strides = (1,1)))\n",
    "        model.add(MaxPool2D((2,2)))\n",
    "        model.add(Flatten())\n",
    "        model.add(Dense(128, activation='tanh'))\n",
    "        model.add(Dense(128, activation='tanh'))\n",
    "        model.add(Dense(9, activation='linear'))\n",
    "        model.compile(loss='mse', optimizer='adam', metrics=['mae'])\n",
    "        #model.build()\n",
    "        return model\n",
    "\n",
    "    def remember(self, state, action, reward, next_state, done):\n",
    "        self.memory.append((state, action, reward, next_state, done))\n",
    "\n",
    "    def act(self, state):\n",
    "        if np.random.rand() <= self.epsilon:\n",
    "            action = [np.random.randint(0, 3), np.random.randint(0, 3), np.random.randint(0, 3)]\n",
    "            decision=0\n",
    "\n",
    "        else:\n",
    "            action = [np.argmax(self.model.predict(state[None,:,:,None])[0][:3]),\n",
    "                      np.argmax(self.model.predict(state[None,:,:,None])[0][3:6]),\n",
    "                      np.argmax(self.model.predict(state[None,:,:,None])[0][6:])]\n",
    "            decision=1\n",
    "   \n",
    "        return action,decision  # returns action\n",
    "\n",
    "    def replay(self, batch_size):\n",
    "        state, action, reward_new, next_state, done = self.memory[-1]\n",
    "        ns_s=next_state[None,:,:,None]-next_state[None,:,:,None].mean()\n",
    "        target = (reward_new + self.gamma *\n",
    "                      np.amax(self.model.predict(ns_s)))\n",
    "        s_s=state[None,:,:,None]-state[None,:,:,None].mean()\n",
    "        target_f = self.model.predict(s_s)[0]\n",
    "        target_f[action] = target\n",
    "        self.model.fit(s_s, target_f.reshape(-1, 9), epochs=1, verbose=0)\n",
    "        if self.epsilon > self.epsilon_min:\n",
    "            self.epsilon *= self.epsilon_decay\n",
    "\n",
    "    def load(self, name):\n",
    "        self.model.load_weights(name)\n",
    "\n",
    "    def save(self, name):\n",
    "        self.model.save_weights(name)\n",
    "\n",
    "\n"
   ]
  },
  {
   "cell_type": "code",
   "execution_count": 20,
   "metadata": {},
   "outputs": [],
   "source": [
    "box = [16, 32, 4]\n",
    "box_extension=32\n",
    "target_roughness=0.98\n",
    "EPISODES=150\n",
    "wdir=r'C:\\Users\\ni1\\Documents\\RL\\kmcsim\\data\\working'"
   ]
  },
  {
   "cell_type": "code",
   "execution_count": 21,
   "metadata": {},
   "outputs": [
    {
     "data": {
      "image/png": "[encoded data removed]",
      "text/plain": [
       "<Figure size 432x288 with 1 Axes>"
      ]
     },
     "metadata": {},
     "output_type": "display_data"
    }
   ],
   "source": [
    "w=2\n",
    "\n",
    "x=np.arange(-1,1,0.01)\n",
    "y=1-np.abs(x*10*1/w)\n",
    "y=y*1000\n",
    "y[y<-1]=-1\n",
    "\n",
    "y1=gaussian(x,sig=0.04*w,mu=0)*1000-1 \n",
    "\n",
    "y2=np.ones_like(x)*1000\n",
    "y2[x>0.05*w]=-1\n",
    "y2[x<-0.05*w]=-1\n",
    "plt.plot(x+target_roughness,y)\n",
    "plt.plot(x+target_roughness,y1)\n",
    "plt.plot(x+target_roughness,y2)\n",
    "plt.show()"
   ]
  },
  {
   "cell_type": "code",
   "execution_count": 22,
   "metadata": {},
   "outputs": [
    {
     "name": "stdout",
     "output_type": "stream",
     "text": [
      "Current directory is C:\\Users\\ni1\\Documents\\RL\n"
     ]
    }
   ],
   "source": [
    "env = KmcEnv(box=box,box_extension=box_extension,target_roughness=target_roughness,\n",
    "             reward_type='gaussian',reward_multiplier=1000,reward_tolerance=2,\n",
    "             rates_spread=0.1,rates_adjustment=1,folder_with_params=wdir)\n",
    "state,reward = env.reset()\n",
    "state_size = env.state.shape\n",
    "action_size = (3,)\n",
    "agent = DQNAgent(state_size, action_size)"
   ]
  },
  {
   "cell_type": "code",
   "execution_count": null,
   "metadata": {
    "scrolled": false
   },
   "outputs": [
    {
     "data": {
      "image/png": "[encoded data removed]",
      "text/plain": [
       "<Figure size 432x288 with 2 Axes>"
      ]
     },
     "metadata": {},
     "output_type": "display_data"
    },
    {
     "name": "stdout",
     "output_type": "stream",
     "text": [
      "episode: 76/150, RMS: 1.066, score: 562.6, thickness: 13.74, e: 0.001689, decision: 1, done: 0\n"
     ]
    }
   ],
   "source": [
    "done = False\n",
    "batch_size = 1\n",
    "env._max_episode_steps = None\n",
    "for e in range(EPISODES):\n",
    "    state,reward = env.reset()\n",
    "    done=env.end_flag\n",
    "    count=0\n",
    "    while not done:\n",
    "        if done:\n",
    "            print(\"episode: {}/{}, RMS: {}, score: {}, e: {:.2}\"\n",
    "                  .format(e, EPISODES, rms_val, reward, agent.epsilon))\n",
    "            break\n",
    "            \n",
    "        action, decision = agent.act(state)\n",
    "        next_state, reward, done = env.step(action, verbose=False)\n",
    "        agent.remember(state, action, reward, next_state, done)\n",
    "        agent.replay(batch_size)\n",
    "        state = next_state\n",
    "        rms_val = calc_roughness(state)\n",
    "        thickness=np.mean(state)\n",
    "        clear_output(wait=True) \n",
    "        plt.title(count)\n",
    "        plt.imshow(state,vmin=0,vmax=30,cmap='nipy_spectral')\n",
    "        plt.colorbar()\n",
    "        plt.show()\n",
    "        print(\"episode: {}/{}, RMS: {:.4}, score: {:.4}, thickness: {:.4}, e: {:.4}, decision: {}, done: {}\"\n",
    "                  .format(e, EPISODES, rms_val, reward, thickness, agent.epsilon, decision, done))\n",
    "        count=count+1\n"
   ]
  },
  {
   "cell_type": "code",
   "execution_count": null,
   "metadata": {},
   "outputs": [],
   "source": [
    "agent.model.save('RL_DQN_0_98_adj_rates.h5')"
   ]
  },
  {
   "cell_type": "code",
   "execution_count": null,
   "metadata": {},
   "outputs": [],
   "source": []
  }
 ],
 "metadata": {
  "kernelspec": {
   "display_name": "Python 3",
   "language": "python",
   "name": "python3"
  },
  "language_info": {
   "codemirror_mode": {
    "name": "ipython",
    "version": 3
   },
   "file_extension": ".py",
   "mimetype": "text/x-python",
   "name": "python",
   "nbconvert_exporter": "python",
   "pygments_lexer": "ipython3",
   "version": "3.6.5"
  }
 },
 "nbformat": 4,
 "nbformat_minor": 2
}
